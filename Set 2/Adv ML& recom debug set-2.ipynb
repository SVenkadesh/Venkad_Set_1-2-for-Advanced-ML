{
 "cells": [
  {
   "cell_type": "code",
   "execution_count": 7,
   "id": "21f6e20c",
   "metadata": {},
   "outputs": [
    {
     "name": "stdout",
     "output_type": "stream",
     "text": [
      "[[2]\n",
      " [4]\n",
      " [6]]\n"
     ]
    }
   ],
   "source": [
    "#1.\n",
    "from sklearn.feature_selection import RFE\n",
    "from sklearn.linear_model import LogisticRegression\n",
    "\n",
    "import warnings\n",
    "warnings.filterwarnings('ignore')\n",
    "\n",
    "X = [[1, 2], [3, 4], [5, 6]]\n",
    "y = [1, 0, 1]\n",
    "\n",
    "rfe = RFE(estimator=LogisticRegression(), n_features_to_select=1)\n",
    "X_new = rfe.fit_transform(X, y)\n",
    "print(X_new)\n"
   ]
  },
  {
   "cell_type": "code",
   "execution_count": 11,
   "id": "37c27a30",
   "metadata": {},
   "outputs": [
    {
     "name": "stdout",
     "output_type": "stream",
     "text": [
      "[[1 2 1]\n",
      " [1 1 3]\n",
      " [3 1 1]]\n"
     ]
    }
   ],
   "source": [
    "#2.\n",
    "from sklearn.feature_selection import VarianceThreshold\n",
    "\n",
    "#X = [[0, 0, 0], [0, 0, 0], [0, 0, 0]] # Error: All data are 0 values\n",
    "X = [[1, 2, 1], [1, 1, 3], [3, 1, 1]]\n",
    "selector = VarianceThreshold(threshold=0.1)\n",
    "X_new = selector.fit_transform(X)\n",
    "print(X_new)"
   ]
  },
  {
   "cell_type": "code",
   "execution_count": 15,
   "id": "613fa1f9",
   "metadata": {},
   "outputs": [
    {
     "name": "stdout",
     "output_type": "stream",
     "text": [
      "[[1.         0.64168895]\n",
      " [0.64168895 1.        ]]\n"
     ]
    }
   ],
   "source": [
    "#3.\n",
    "from sklearn.metrics.pairwise import cosine_similarity\n",
    "#data = [[5, 0, 3], [0, 0, 0]] # Error: 2nd array data is 0 values\n",
    "data = [[5, 0, 3], [1, 2, 3]]\n",
    "similarity = cosine_similarity(data)\n",
    "print(similarity)"
   ]
  },
  {
   "cell_type": "code",
   "execution_count": 17,
   "id": "a0a186b5",
   "metadata": {},
   "outputs": [
    {
     "name": "stdout",
     "output_type": "stream",
     "text": [
      "[[1]\n",
      " [3]\n",
      " [5]]\n"
     ]
    }
   ],
   "source": [
    "#4.\n",
    "from sklearn.feature_selection import SelectFromModel\n",
    "from sklearn.tree import DecisionTreeClassifier\n",
    "\n",
    "X = [[1, 2], [3, 4], [5, 6]]\n",
    "y = [1, 0, 1]\n",
    "selector = SelectFromModel(DecisionTreeClassifier(), threshold=\"mean\")\n",
    "X_new = selector.fit_transform(X, y)\n",
    "print(X_new)"
   ]
  },
  {
   "cell_type": "code",
   "execution_count": 20,
   "id": "3162772f",
   "metadata": {},
   "outputs": [
    {
     "data": {
      "text/html": [
       "<div>\n",
       "<style scoped>\n",
       "    .dataframe tbody tr th:only-of-type {\n",
       "        vertical-align: middle;\n",
       "    }\n",
       "\n",
       "    .dataframe tbody tr th {\n",
       "        vertical-align: top;\n",
       "    }\n",
       "\n",
       "    .dataframe thead th {\n",
       "        text-align: right;\n",
       "    }\n",
       "</style>\n",
       "<table border=\"1\" class=\"dataframe\">\n",
       "  <thead>\n",
       "    <tr style=\"text-align: right;\">\n",
       "      <th>item</th>\n",
       "      <th>I1</th>\n",
       "      <th>I2</th>\n",
       "    </tr>\n",
       "    <tr>\n",
       "      <th>user</th>\n",
       "      <th></th>\n",
       "      <th></th>\n",
       "    </tr>\n",
       "  </thead>\n",
       "  <tbody>\n",
       "    <tr>\n",
       "      <th>A</th>\n",
       "      <td>5.0</td>\n",
       "      <td>3.0</td>\n",
       "    </tr>\n",
       "    <tr>\n",
       "      <th>B</th>\n",
       "      <td>NaN</td>\n",
       "      <td>4.0</td>\n",
       "    </tr>\n",
       "  </tbody>\n",
       "</table>\n",
       "</div>"
      ],
      "text/plain": [
       "item   I1   I2\n",
       "user          \n",
       "A     5.0  3.0\n",
       "B     NaN  4.0"
      ]
     },
     "execution_count": 20,
     "metadata": {},
     "output_type": "execute_result"
    }
   ],
   "source": [
    "#5.\n",
    "import pandas as pd # Library missed to import\n",
    "data = pd.DataFrame({\n",
    "    'user': ['A', 'B', 'A'],\n",
    "    'item': ['I1', 'I2', 'I2'],\n",
    "    #'rate': [5, 4, 3] Error: column name mismatched\n",
    "    'rating': [5, 4, 3]\n",
    "})\n",
    "pivot = data.pivot(index='user', columns='item', values='rating') \n",
    "pivot"
   ]
  },
  {
   "cell_type": "code",
   "execution_count": 24,
   "id": "3ec936f1",
   "metadata": {},
   "outputs": [
    {
     "data": {
      "text/plain": [
       "array([[-1.41421356,  0.        ],\n",
       "       [ 1.41421356,  0.        ]])"
      ]
     },
     "execution_count": 24,
     "metadata": {},
     "output_type": "execute_result"
    }
   ],
   "source": [
    "#6.\n",
    "from sklearn.decomposition import PCA\n",
    "import numpy as np\n",
    "\n",
    "X = np.array([[1, 2], [3, 4]])\n",
    "#pca = PCA(n_components=3) Error: n_components totally we have 2 in X but given as 3\n",
    "pca = PCA(n_components=2) \n",
    "X_new = pca.fit_transform(X)\n",
    "X_new"
   ]
  },
  {
   "cell_type": "code",
   "execution_count": 33,
   "id": "915a5b0c",
   "metadata": {},
   "outputs": [
    {
     "data": {
      "text/plain": [
       "array([[1.        , 0.        , 0.38348249],\n",
       "       [0.        , 1.        , 0.89442719],\n",
       "       [0.38348249, 0.89442719, 1.        ]])"
      ]
     },
     "execution_count": 33,
     "metadata": {},
     "output_type": "execute_result"
    }
   ],
   "source": [
    "#7.\n",
    "import numpy as np\n",
    "ratings = pd.DataFrame({\n",
    "    'User1': [5, None, 3],\n",
    "    'User2': [None, 4, None],\n",
    "    'User3': [1, 2, None]\n",
    "})\n",
    "ratings = ratings.fillna(0) # replace None to 0\n",
    "sim = cosine_similarity(ratings.T)\n",
    "sim"
   ]
  },
  {
   "cell_type": "code",
   "execution_count": 27,
   "id": "e20d459d",
   "metadata": {},
   "outputs": [
    {
     "name": "stdout",
     "output_type": "stream",
     "text": [
      "Predicted Score: 2.5\n"
     ]
    }
   ],
   "source": [
    "#8.\n",
    "import numpy as np\n",
    "\n",
    "user_vec = np.array([1, 2])\n",
    "item_vec = np.array([0.5, 1.0])\n",
    "score = np.dot(user_vec, item_vec)\n",
    "print(\"Predicted Score:\", score)\n"
   ]
  },
  {
   "cell_type": "code",
   "execution_count": 34,
   "id": "815f207d",
   "metadata": {},
   "outputs": [
    {
     "name": "stdout",
     "output_type": "stream",
     "text": [
      "[[0 2]]\n"
     ]
    }
   ],
   "source": [
    "#9.\n",
    "from sklearn.neighbors import NearestNeighbors\n",
    "import numpy as np\n",
    "\n",
    "X = np.array([[1, 0, 1], [0, 1, 0], [1, 1, 1]])\n",
    "model = NearestNeighbors()\n",
    "model.fit(X)\n",
    "distances, indices = model.kneighbors([X[0]], n_neighbors=2)\n",
    "print(indices)\n"
   ]
  },
  {
   "cell_type": "code",
   "execution_count": 37,
   "id": "215bc2e1",
   "metadata": {},
   "outputs": [
    {
     "name": "stdout",
     "output_type": "stream",
     "text": [
      "Similarity: [[0.5]]\n"
     ]
    }
   ],
   "source": [
    "#10.\n",
    "from sklearn.metrics.pairwise import cosine_similarity\n",
    "import numpy as np\n",
    "\n",
    "a = np.array([1, 0, 1]).reshape(1,-1) # add reshape\n",
    "b = np.array([0, 1, 1]).reshape(1,-1)  # add reshape\n",
    "\n",
    "sim = cosine_similarity(a, b)\n",
    "print(\"Similarity:\", sim)"
   ]
  },
  {
   "cell_type": "code",
   "execution_count": null,
   "id": "c1c5f139",
   "metadata": {},
   "outputs": [],
   "source": []
  }
 ],
 "metadata": {
  "kernelspec": {
   "display_name": "Python 3 (ipykernel)",
   "language": "python",
   "name": "python3"
  },
  "language_info": {
   "codemirror_mode": {
    "name": "ipython",
    "version": 3
   },
   "file_extension": ".py",
   "mimetype": "text/x-python",
   "name": "python",
   "nbconvert_exporter": "python",
   "pygments_lexer": "ipython3",
   "version": "3.9.23"
  }
 },
 "nbformat": 4,
 "nbformat_minor": 5
}
