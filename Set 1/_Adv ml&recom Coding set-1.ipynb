{
 "cells": [
  {
   "cell_type": "code",
   "execution_count": null,
   "id": "f45b108c",
   "metadata": {},
   "outputs": [],
   "source": [
    "#1.\n",
    "import pandas as pd\n",
    "\n",
    "df = pd.DataFrame({\n",
    "    'Age': [25, 32, 47, 51, 62],\n",
    "    'Salary': [40000, 50000, 60000, 52000, 62000],\n",
    "    'Purchased': [0, 1, 1, 0, 1]\n",
    "})\n",
    "\n",
    "X = df[['Age', 'Salary']]\n",
    "y = df['Purchased']\n",
    "Use Mutual Information to find the most important feature for predicting Purchased. Select the top 1 feature.\n",
    "\n",
    "Expected Output:\n",
    "['Salary']"
   ]
  },
  {
   "cell_type": "code",
   "execution_count": 1,
   "id": "cac0d000-bddd-4c25-89dd-184b50eb2745",
   "metadata": {},
   "outputs": [
    {
     "name": "stdout",
     "output_type": "stream",
     "text": [
      "['Salary']\n"
     ]
    }
   ],
   "source": [
    "#1. Answer\n",
    "\n",
    "import pandas as pd\n",
    "\n",
    "df = pd.DataFrame({\n",
    "    'Age': [25, 32, 47, 51, 62],\n",
    "    'Salary': [40000, 50000, 60000, 52000, 62000],\n",
    "    'Purchased': [0, 1, 1, 0, 1]\n",
    "})\n",
    "\n",
    "X = df[['Age', 'Salary']]\n",
    "y = df['Purchased']\n",
    "\n",
    "from sklearn.feature_selection import SelectKBest,mutual_info_classif\n",
    "sector = SelectKBest(score_func=mutual_info_classif,k=1)\n",
    "sector.fit(X,y)\n",
    "\n",
    "selected_feature = X.columns[sector.get_support()].tolist()\n",
    "print(selected_feature)"
   ]
  },
  {
   "cell_type": "code",
   "execution_count": null,
   "id": "72f065fe",
   "metadata": {},
   "outputs": [],
   "source": [
    "#2.\n",
    "import pandas as pd\n",
    "\n",
    "data = pd.DataFrame({\n",
    "    'User': ['A', 'A', 'B', 'B', 'C', 'C'],\n",
    "    'Item': ['Apple', 'Banana', 'Apple', 'Orange', 'Banana', 'Orange'],\n",
    "    'Rating': [5, 3, 4, 2, 5, 4]\n",
    "})\n",
    "\n",
    "Based on item popularity (sum of ratings), recommend top 2 items to a new user.\n",
    "\n",
    " Expected Output:\n",
    "\n",
    "['Apple', 'Banana']\n",
    "\n"
   ]
  },
  {
   "cell_type": "code",
   "execution_count": 2,
   "id": "eb7de74a-9e20-4042-be5f-79540c58d1be",
   "metadata": {},
   "outputs": [
    {
     "name": "stdout",
     "output_type": "stream",
     "text": [
      "['Apple', 'Banana']\n"
     ]
    }
   ],
   "source": [
    "# 2. Ans\n",
    "\n",
    "import pandas as pd\n",
    "\n",
    "data = pd.DataFrame({\n",
    "    'User': ['A', 'A', 'B', 'B', 'C', 'C'],\n",
    "    'Item': ['Apple', 'Banana', 'Apple', 'Orange', 'Banana', 'Orange'],\n",
    "    'Rating': [5, 3, 4, 2, 5, 4]\n",
    "})\n",
    "\n",
    "items = data.groupby('Item')['Rating'].sum().sort_values(ascending=False)\n",
    "top_items = items.head(2).index.tolist()\n",
    "print(top_items)"
   ]
  },
  {
   "cell_type": "code",
   "execution_count": null,
   "id": "43499af5",
   "metadata": {},
   "outputs": [],
   "source": [
    "#3.\n",
    "from sklearn.datasets import load_diabetes\n",
    "import pandas as pd\n",
    "\n",
    "X, y = load_diabetes(return_X_y=True, as_frame=True)\n",
    "Write a Python program to perform feature selection using Recursive Feature Elimination (RFE). Use Linear Regression as the estimator and select the top 5 features. Print the selected feature names.\n",
    "\n",
    "Expected output:\n",
    "Selected features: ['bmi', 's5', 'bp', 'age', 'sex']\n"
   ]
  },
  {
   "cell_type": "code",
   "execution_count": 5,
   "id": "691ee605-bb49-4c17-a4dd-3009b076568b",
   "metadata": {},
   "outputs": [
    {
     "name": "stdout",
     "output_type": "stream",
     "text": [
      "Selected features: ['bmi', 'bp', 's1', 's2', 's5']\n"
     ]
    }
   ],
   "source": [
    "#3. Ans\n",
    "\n",
    "#3.\n",
    "from sklearn.datasets import load_diabetes\n",
    "import pandas as pd\n",
    "\n",
    "X, y = load_diabetes(return_X_y=True, as_frame=True)\n",
    "\n",
    "from sklearn.linear_model import LinearRegression\n",
    "from sklearn.feature_selection import RFE\n",
    "\n",
    "#Initialize the model\n",
    "model = LinearRegression()\n",
    "\n",
    "#Initialize RFE sector and fit the model\n",
    "selector = RFE(model,n_features_to_select=5)\n",
    "selector = selector.fit(X,y)\n",
    "\n",
    "# Get the names of the selected features\n",
    "selected_features = X.columns[selector.support_]\n",
    "print(\"Selected features:\", list(selected_features))"
   ]
  },
  {
   "cell_type": "code",
   "execution_count": null,
   "id": "4537a4e5",
   "metadata": {},
   "outputs": [],
   "source": [
    "#4.\n",
    "from sklearn.datasets import load_digits\n",
    "import pandas as pd\n",
    "\n",
    "X, y = load_digits(return_X_y=True, as_frame=True)\n",
    "Write a Python program that selects the top 8 features using SelectKBest with mutual_info_classif as the scoring function. Print the names of the selected features.\n",
    "\n",
    "🎯 Expected Output:\n",
    "    Top 8 features using mutual info: ['pixel_0_1', 'pixel_0_6', 'pixel_1_5', 'pixel_2_2', 'pixel_2_5', 'pixel_4_2', 'pixel_5_1', 'pixel_7_4']\n"
   ]
  },
  {
   "cell_type": "code",
   "execution_count": 16,
   "id": "0c1b9d7d-7ef7-40ab-86c0-887a14c224bf",
   "metadata": {},
   "outputs": [
    {
     "name": "stdout",
     "output_type": "stream",
     "text": [
      "Top 8 features using mutual info: ['pixel_2_5', 'pixel_3_2', 'pixel_3_4', 'pixel_4_1', 'pixel_4_2', 'pixel_5_2', 'pixel_5_3', 'pixel_7_5']\n"
     ]
    }
   ],
   "source": [
    "#4. Ans\n",
    "\n",
    "from sklearn.datasets import load_digits\n",
    "import pandas as pd\n",
    "\n",
    "X, y = load_digits(return_X_y=True, as_frame=True)\n",
    "\n",
    "from sklearn.feature_selection import SelectKBest, mutual_info_classif\n",
    "\n",
    "model = SelectKBest(score_func=mutual_info_classif,k=8)\n",
    "model.fit(X,y)\n",
    "\n",
    "selector = X.columns[model.get_support()].tolist()\n",
    "print(\"Top 8 features using mutual info:\", list(selector))"
   ]
  },
  {
   "cell_type": "code",
   "execution_count": null,
   "id": "ff2f6934",
   "metadata": {},
   "outputs": [],
   "source": [
    "#5.\n",
    "from sklearn.datasets import load_breast_cancer\n",
    "import pandas as pd\n",
    "\n",
    "X, y = load_breast_cancer(return_X_y=True, as_frame=True)\n",
    "Write a Python program to perform feature selection using SelectFromModel. Train a Logistic Regression model and select features based on importance using SelectFromModel. Print the names of the selected feature\n",
    "\n",
    "\n",
    "Expected Output:\n",
    "Selected features: ['mean radius', 'mean concavity', 'texture error', 'worst texture', 'worst smoothness', 'worst compactness', 'worst concavity', 'worst concave points', 'worst symmetry']"
   ]
  },
  {
   "cell_type": "code",
   "execution_count": 32,
   "id": "e4302975",
   "metadata": {},
   "outputs": [
    {
     "name": "stdout",
     "output_type": "stream",
     "text": [
      "Selected features: ['mean radius', 'mean concavity', 'texture error', 'worst texture', 'worst smoothness', 'worst compactness', 'worst concavity', 'worst concave points', 'worst symmetry']\n"
     ]
    }
   ],
   "source": [
    "#5. Ans\n",
    "from sklearn.datasets import load_breast_cancer\n",
    "import pandas as pd\n",
    "\n",
    "X, y = load_breast_cancer(return_X_y=True, as_frame=True)\n",
    "\n",
    "from sklearn.linear_model import LogisticRegression\n",
    "from sklearn.feature_selection import SelectKBest\n",
    "from sklearn.feature_selection import SelectFromModel\n",
    "\n",
    "# Initilize Linear Model and fit\n",
    "model = LogisticRegression(max_iter=10000)\n",
    "model.fit(X,y)\n",
    "\n",
    "# Initialize SelectFromModel with Logistic Regression model\n",
    "sector = SelectFromModel(model,threshold='mean')\n",
    "\n",
    "# Fit the selector to the data\n",
    "sector.fit(X, y)\n",
    "\n",
    "# Get the selected feature names\n",
    "selected_features = X.columns[sector.get_support()]\n",
    "print(\"Selected features:\", list(selected_features))"
   ]
  },
  {
   "cell_type": "code",
   "execution_count": null,
   "id": "36051c7b",
   "metadata": {},
   "outputs": [],
   "source": []
  },
  {
   "cell_type": "code",
   "execution_count": null,
   "id": "ecba703b",
   "metadata": {},
   "outputs": [],
   "source": []
  }
 ],
 "metadata": {
  "kernelspec": {
   "display_name": "Python 3 (ipykernel)",
   "language": "python",
   "name": "python3"
  },
  "language_info": {
   "codemirror_mode": {
    "name": "ipython",
    "version": 3
   },
   "file_extension": ".py",
   "mimetype": "text/x-python",
   "name": "python",
   "nbconvert_exporter": "python",
   "pygments_lexer": "ipython3",
   "version": "3.9.23"
  }
 },
 "nbformat": 4,
 "nbformat_minor": 5
}
